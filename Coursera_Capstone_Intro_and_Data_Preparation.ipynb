{
 "cells": [
  {
   "cell_type": "markdown",
   "metadata": {},
   "source": [
    "# Coursera Capstone: Road Accident Data, 1979-2015\n",
    "\n",
    "This notebook is to be used exclusively for the Coursera Capstone project."
   ]
  },
  {
   "cell_type": "markdown",
   "metadata": {},
   "source": [
    "## Background and Objectives\n",
    "\n",
    "This notebook seeks to investigate and come to some conclusions regarding data on road accidents, sourced at https://www.kaggle.com/akshay4/road-accidents-incidence, in particular what features of accidents we can link to their severity, and how we can use these features to accurately predict this characteristic.\n",
    "\n",
    "The reason we want to understand this is so we can understand how to reduce the statistic of severe or fatal accidents. Stakeholders interested in this project would be both the general public as well as, for example, the Department of Transport. This would allow them to take steps to mitigate and reduce the severity of accidents on the country's roads, thereby improving public health and wellbeing.\n",
    "\n",
    "This data was compiled and published by the UK Government's Department for Transport, and is comprised of data on accidents and a range of characteristics of vehicles concerned. I intend to assess which features may be correlated to our target variable (accident severity)."
   ]
  },
  {
   "cell_type": "markdown",
   "metadata": {},
   "source": [
    "## Data Preparation \n",
    "\n",
    "To analyse this dataset I will use standard Python libraries Pandas, NumPy and Matplotlib to assess correlations between features and the target variable Accident Severity. If necessary, I will consider correcting or deleting missing data. \n",
    "\n",
    "Once I have found some useful correlations, I will train and test different supervised learning models to see if any can accurately predict the target variable values. I will evaluate the models' performance, and fine tune their parameters if necessary. \n",
    "\n",
    "As part of my analysis, I also want to understand what trends or skewed information there are in the data.\n",
    "\n",
    "Prior to training and testing machine learning models, I will look to clean, balance, possibly normalise or standardise the data, fill in missing values and so on. I will likely return to the data preparation stage at later points in my analysis.\n",
    "\n",
    "As the target variable is a categorical and not continuous variable (1, 2 or 3), I will test out a range of classification models (K-Nearest-Neighbours, Logistical Regression etc.), and see which performs best."
   ]
  },
  {
   "cell_type": "code",
   "execution_count": null,
   "metadata": {},
   "outputs": [],
   "source": []
  }
 ],
 "metadata": {
  "kernelspec": {
   "display_name": "Python 3",
   "language": "python",
   "name": "python3"
  },
  "language_info": {
   "codemirror_mode": {
    "name": "ipython",
    "version": 3
   },
   "file_extension": ".py",
   "mimetype": "text/x-python",
   "name": "python",
   "nbconvert_exporter": "python",
   "pygments_lexer": "ipython3",
   "version": "3.7.6"
  }
 },
 "nbformat": 4,
 "nbformat_minor": 4
}
