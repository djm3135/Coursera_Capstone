{
 "cells": [
  {
   "cell_type": "markdown",
   "metadata": {},
   "source": [
    "# Coursera Capstone: UK Road Accident Data, 2015\n",
    "\n",
    "This notebook is to be used exclusively for the Coursera Capstone project."
   ]
  },
  {
   "cell_type": "markdown",
   "metadata": {},
   "source": [
    "## Background and Objectives\n",
    "\n",
    "\n",
    "Reducing accidents on the road represents a major objective of all governments around the world. During 2018 on the UK's roads alone, the number of killed or seriously injured (KSI) amounted to 27295. Total prevention costs from reported road accidents amounted to 16.5 billion British pounds in 2018. Between 2010 and 2018, figures had grown by approximately 9 percent, while the lowest figure had been recorded in 2013. On average a fatal accident resulted in nearly 2.2 million British pounds in prevention costs in 2018, while slight accidents resulted in costs of £26,100.\n",
    "\n",
    "Gaining insight into how the statistics of KSI can be reduced is therefore of critical importance to the government's aims, in order to improve the safety for UK citizens whilst travelling, as well as for economic reasons.\n",
    "\n",
    "This notebook seeks to investigate and come to some conclusions regarding data on road accidents, in particular what features of accidents we can link to their severity, and how we can use these features to accurately predict this characteristic. If we can understand some causes or correlations of KSI on the road, we can hopefully reduce the negative statistics.\n",
    "This would allow them to take steps to mitigate and reduce the severity of accidents on the country's roads, thereby improving public health and wellbeing."
   ]
  },
  {
   "cell_type": "markdown",
   "metadata": {},
   "source": [
    "## Data Preparation \n",
    "\n",
    "The data I will analyse was compiled and published by the UK Government's Department for Transport, is sourced at https://www.kaggle.com/akshay4/road-accidents-incidence, and is comprised of data on accidents and a range of characteristics of vehicles concerned. I intend to analyse the data-set's features, and see which may be correlated to our target variable (accident severity). This feature can have discrete integer values 1 ('slight'), 2 ('Severe') or 3 ('Fatal).\n",
    "\n",
    "This data-set (.csv) reflects Road Accidents in UK during 2015 and has 70 features/columns and about 250K rows.\n",
    "\n",
    "The data set consists of the following features, which are a mixture of string, integer, and continuous (float) objects pertaining to the vehicle as well as the particular environmental conditions at the time of the accident,: \n",
    "\n",
    "accident_index\tvehicle_reference\tvehicle_type\ttowing_and_articulation\tvehicle_manoeuvre\tvehicle_location-restricted_lane\tjunction_location\tskidding_and_overturning\thit_object_in_carriageway\tvehicle_leaving_carriageway\thit_object_off_carriageway\t1st_point_of_impact\twas_vehicle_left_hand_drive?\tjourney_purpose_of_driver\tsex_of_driver\tage_of_driver\tage_band_of_driver\tengine_capacity_(cc)\tpropulsion_code\tage_of_vehicle\tdriver_imd_decile\tdriver_home_area_type\tvehicle_imd_decile\tNumber_of_Casualities_unique_to_accident_index\tNo_of_Vehicles_involved_unique_to_accident_index\tlocation_easting_osgr\tlocation_northing_osgr\tlongitude\tlatitude\tpolice_force\taccident_severity\tnumber_of_vehicles\tnumber_of_casualties\tdate\tday_of_week\ttime\tlocal_authority_(district)\tlocal_authority_(highway)\t1st_road_class\t1st_road_number\troad_type\tspeed_limit\tjunction_detail\tjunction_control\t2nd_road_class\t2nd_road_number\tpedestrian_crossing-human_control\tpedestrian_crossing-physical_facilities\tlight_conditions\tweather_conditions\troad_surface_conditions\tspecial_conditions_at_site\tcarriageway_hazards\turban_or_rural_area\tdid_police_officer_attend_scene_of_accident\tlsoa_of_accident_location\tcasualty_reference\tcasualty_class\tsex_of_casualty\tage_of_casualty\tage_band_of_casualty\tcasualty_severity\tpedestrian_location\tpedestrian_movement\tcar_passenger\tbus_or_coach_passenger\tpedestrian_road_maintenance_worker\tcasualty_type\tcasualty_home_area_type\tcasualty_imd_decile.\n",
    "\n",
    "To analyse this dataset I will use standard Python libraries Pandas, NumPy and Matplotlib to assess correlations between features and the target variable Accident Severity. Prior to training and testing machine learning models, I will look to clean, change object type, balance, possibly normalise or standardise the data, perform feature-engineering, fill in or delete rows with missing values and so on. I will likely return to the data preparation stage at later points in my analysis. As there are a lot of features, I will seek to select the ones which seem most closely correlated with the target variable.\n",
    "\n",
    "As part of my analysis, I also want to understand what trends or skewed information there are in the data.\n",
    "\n",
    "Once I have found some useful correlations, I will train and test different supervised learning models to see if any can accurately predict the target variable values. I will evaluate the models' performance, and fine tune their parameters if necessary. \n",
    "\n",
    "As the target variable is a categorical and not continuous variable (1, 2 or 3), I will test out a range of classification models (K-Nearest-Neighbours, Logistical Regression etc.), and see which performs best.\n"
   ]
  },
  {
   "cell_type": "code",
   "execution_count": 214,
   "metadata": {},
   "outputs": [],
   "source": [
    "import pandas as pd\n",
    "import numpy as np\n",
    "import matplotlib.pyplot as plt\n",
    "%matplotlib inline"
   ]
  },
  {
   "cell_type": "code",
   "execution_count": 215,
   "metadata": {},
   "outputs": [
    {
     "name": "stderr",
     "output_type": "stream",
     "text": [
      "/opt/anaconda3/lib/python3.7/site-packages/IPython/core/interactiveshell.py:3063: DtypeWarning: Columns (0,55) have mixed types.Specify dtype option on import or set low_memory=False.\n",
      "  interactivity=interactivity, compiler=compiler, result=result)\n"
     ]
    }
   ],
   "source": [
    "df=pd.read_csv('kaagle_upload.csv')"
   ]
  },
  {
   "cell_type": "markdown",
   "metadata": {},
   "source": [
    "## Early exploration of the data"
   ]
  },
  {
   "cell_type": "markdown",
   "metadata": {},
   "source": [
    "Let's see what features we have, what kind of data-types they are, and what proportion of null values we have. As there are some 'null' values (more below), I need to decide what to do with these data-points.\n",
    "\n",
    "The target data-type is already an integer. This is good as the skitlearn models require this."
   ]
  },
  {
   "cell_type": "code",
   "execution_count": 216,
   "metadata": {},
   "outputs": [
    {
     "name": "stdout",
     "output_type": "stream",
     "text": [
      "<class 'pandas.core.frame.DataFrame'>\n",
      "RangeIndex: 285331 entries, 0 to 285330\n",
      "Data columns (total 70 columns):\n",
      " #   Column                                            Non-Null Count   Dtype  \n",
      "---  ------                                            --------------   -----  \n",
      " 0   accident_index                                    285331 non-null  object \n",
      " 1   vehicle_reference                                 285331 non-null  int64  \n",
      " 2   vehicle_type                                      285331 non-null  int64  \n",
      " 3   towing_and_articulation                           285331 non-null  int64  \n",
      " 4   vehicle_manoeuvre                                 285331 non-null  int64  \n",
      " 5   vehicle_location-restricted_lane                  285331 non-null  int64  \n",
      " 6   junction_location                                 285331 non-null  int64  \n",
      " 7   skidding_and_overturning                          285331 non-null  int64  \n",
      " 8   hit_object_in_carriageway                         285331 non-null  int64  \n",
      " 9   vehicle_leaving_carriageway                       285331 non-null  int64  \n",
      " 10  hit_object_off_carriageway                        285331 non-null  int64  \n",
      " 11  1st_point_of_impact                               285331 non-null  int64  \n",
      " 12  was_vehicle_left_hand_drive?                      285331 non-null  int64  \n",
      " 13  journey_purpose_of_driver                         285331 non-null  int64  \n",
      " 14  sex_of_driver                                     285331 non-null  int64  \n",
      " 15  age_of_driver                                     285331 non-null  int64  \n",
      " 16  age_band_of_driver                                285331 non-null  int64  \n",
      " 17  engine_capacity_(cc)                              285331 non-null  int64  \n",
      " 18  propulsion_code                                   285331 non-null  int64  \n",
      " 19  age_of_vehicle                                    285331 non-null  int64  \n",
      " 20  driver_imd_decile                                 285331 non-null  int64  \n",
      " 21  driver_home_area_type                             285331 non-null  int64  \n",
      " 22  vehicle_imd_decile                                285331 non-null  int64  \n",
      " 23  NUmber_of_Casualities_unique_to_accident_index    285331 non-null  int64  \n",
      " 24  No_of_Vehicles_involved_unique_to_accident_index  285331 non-null  int64  \n",
      " 25  location_easting_osgr                             285270 non-null  float64\n",
      " 26  location_northing_osgr                            285270 non-null  float64\n",
      " 27  longitude                                         285270 non-null  float64\n",
      " 28  latitude                                          285270 non-null  float64\n",
      " 29  police_force                                      285331 non-null  int64  \n",
      " 30  accident_severity                                 285331 non-null  int64  \n",
      " 31  number_of_vehicles                                285331 non-null  int64  \n",
      " 32  number_of_casualties                              285331 non-null  int64  \n",
      " 33  date                                              285331 non-null  object \n",
      " 34  day_of_week                                       285331 non-null  int64  \n",
      " 35  time                                              285298 non-null  object \n",
      " 36  local_authority_(district)                        285331 non-null  int64  \n",
      " 37  local_authority_(highway)                         285331 non-null  object \n",
      " 38  1st_road_class                                    285331 non-null  int64  \n",
      " 39  1st_road_number                                   285331 non-null  int64  \n",
      " 40  road_type                                         285331 non-null  int64  \n",
      " 41  speed_limit                                       285331 non-null  int64  \n",
      " 42  junction_detail                                   285331 non-null  int64  \n",
      " 43  junction_control                                  285331 non-null  int64  \n",
      " 44  2nd_road_class                                    285331 non-null  int64  \n",
      " 45  2nd_road_number                                   285331 non-null  int64  \n",
      " 46  pedestrian_crossing-human_control                 285331 non-null  int64  \n",
      " 47  pedestrian_crossing-physical_facilities           285331 non-null  int64  \n",
      " 48  light_conditions                                  285331 non-null  int64  \n",
      " 49  weather_conditions                                285331 non-null  int64  \n",
      " 50  road_surface_conditions                           285331 non-null  int64  \n",
      " 51  special_conditions_at_site                        285331 non-null  int64  \n",
      " 52  carriageway_hazards                               285331 non-null  int64  \n",
      " 53  urban_or_rural_area                               285331 non-null  int64  \n",
      " 54  did_police_officer_attend_scene_of_accident       285331 non-null  int64  \n",
      " 55  lsoa_of_accident_location                         268252 non-null  object \n",
      " 56  casualty_reference                                186072 non-null  float64\n",
      " 57  casualty_class                                    186072 non-null  float64\n",
      " 58  sex_of_casualty                                   186072 non-null  float64\n",
      " 59  age_of_casualty                                   186072 non-null  float64\n",
      " 60  age_band_of_casualty                              186072 non-null  float64\n",
      " 61  casualty_severity                                 186072 non-null  float64\n",
      " 62  pedestrian_location                               186072 non-null  float64\n",
      " 63  pedestrian_movement                               186072 non-null  float64\n",
      " 64  car_passenger                                     186072 non-null  float64\n",
      " 65  bus_or_coach_passenger                            186072 non-null  float64\n",
      " 66  pedestrian_road_maintenance_worker                186072 non-null  float64\n",
      " 67  casualty_type                                     186072 non-null  float64\n",
      " 68  casualty_home_area_type                           186072 non-null  float64\n",
      " 69  casualty_imd_decile                               186072 non-null  float64\n",
      "dtypes: float64(18), int64(47), object(5)\n",
      "memory usage: 152.4+ MB\n",
      "None\n"
     ]
    }
   ],
   "source": [
    "print(df.info())"
   ]
  },
  {
   "cell_type": "markdown",
   "metadata": {},
   "source": [
    "Let's have a look at the shape and first few rows of the dataframe."
   ]
  },
  {
   "cell_type": "code",
   "execution_count": 217,
   "metadata": {},
   "outputs": [
    {
     "name": "stdout",
     "output_type": "stream",
     "text": [
      "(285331, 70)\n"
     ]
    },
    {
     "data": {
      "text/html": [
       "<div>\n",
       "<style scoped>\n",
       "    .dataframe tbody tr th:only-of-type {\n",
       "        vertical-align: middle;\n",
       "    }\n",
       "\n",
       "    .dataframe tbody tr th {\n",
       "        vertical-align: top;\n",
       "    }\n",
       "\n",
       "    .dataframe thead th {\n",
       "        text-align: right;\n",
       "    }\n",
       "</style>\n",
       "<table border=\"1\" class=\"dataframe\">\n",
       "  <thead>\n",
       "    <tr style=\"text-align: right;\">\n",
       "      <th></th>\n",
       "      <th>accident_index</th>\n",
       "      <th>vehicle_reference</th>\n",
       "      <th>vehicle_type</th>\n",
       "      <th>towing_and_articulation</th>\n",
       "      <th>vehicle_manoeuvre</th>\n",
       "      <th>vehicle_location-restricted_lane</th>\n",
       "      <th>junction_location</th>\n",
       "      <th>skidding_and_overturning</th>\n",
       "      <th>hit_object_in_carriageway</th>\n",
       "      <th>vehicle_leaving_carriageway</th>\n",
       "      <th>...</th>\n",
       "      <th>age_band_of_casualty</th>\n",
       "      <th>casualty_severity</th>\n",
       "      <th>pedestrian_location</th>\n",
       "      <th>pedestrian_movement</th>\n",
       "      <th>car_passenger</th>\n",
       "      <th>bus_or_coach_passenger</th>\n",
       "      <th>pedestrian_road_maintenance_worker</th>\n",
       "      <th>casualty_type</th>\n",
       "      <th>casualty_home_area_type</th>\n",
       "      <th>casualty_imd_decile</th>\n",
       "    </tr>\n",
       "  </thead>\n",
       "  <tbody>\n",
       "    <tr>\n",
       "      <th>0</th>\n",
       "      <td>201506E098757</td>\n",
       "      <td>2</td>\n",
       "      <td>9</td>\n",
       "      <td>0</td>\n",
       "      <td>18</td>\n",
       "      <td>0</td>\n",
       "      <td>8</td>\n",
       "      <td>0</td>\n",
       "      <td>0</td>\n",
       "      <td>0</td>\n",
       "      <td>...</td>\n",
       "      <td>NaN</td>\n",
       "      <td>NaN</td>\n",
       "      <td>NaN</td>\n",
       "      <td>NaN</td>\n",
       "      <td>NaN</td>\n",
       "      <td>NaN</td>\n",
       "      <td>NaN</td>\n",
       "      <td>NaN</td>\n",
       "      <td>NaN</td>\n",
       "      <td>NaN</td>\n",
       "    </tr>\n",
       "    <tr>\n",
       "      <th>1</th>\n",
       "      <td>201506E098766</td>\n",
       "      <td>1</td>\n",
       "      <td>9</td>\n",
       "      <td>0</td>\n",
       "      <td>9</td>\n",
       "      <td>0</td>\n",
       "      <td>8</td>\n",
       "      <td>0</td>\n",
       "      <td>0</td>\n",
       "      <td>0</td>\n",
       "      <td>...</td>\n",
       "      <td>NaN</td>\n",
       "      <td>NaN</td>\n",
       "      <td>NaN</td>\n",
       "      <td>NaN</td>\n",
       "      <td>NaN</td>\n",
       "      <td>NaN</td>\n",
       "      <td>NaN</td>\n",
       "      <td>NaN</td>\n",
       "      <td>NaN</td>\n",
       "      <td>NaN</td>\n",
       "    </tr>\n",
       "    <tr>\n",
       "      <th>2</th>\n",
       "      <td>201506E098766</td>\n",
       "      <td>2</td>\n",
       "      <td>9</td>\n",
       "      <td>0</td>\n",
       "      <td>18</td>\n",
       "      <td>0</td>\n",
       "      <td>8</td>\n",
       "      <td>0</td>\n",
       "      <td>0</td>\n",
       "      <td>0</td>\n",
       "      <td>...</td>\n",
       "      <td>8.0</td>\n",
       "      <td>3.0</td>\n",
       "      <td>0.0</td>\n",
       "      <td>0.0</td>\n",
       "      <td>0.0</td>\n",
       "      <td>0.0</td>\n",
       "      <td>0.0</td>\n",
       "      <td>9.0</td>\n",
       "      <td>1.0</td>\n",
       "      <td>3.0</td>\n",
       "    </tr>\n",
       "    <tr>\n",
       "      <th>3</th>\n",
       "      <td>201506E098777</td>\n",
       "      <td>1</td>\n",
       "      <td>20</td>\n",
       "      <td>0</td>\n",
       "      <td>4</td>\n",
       "      <td>0</td>\n",
       "      <td>0</td>\n",
       "      <td>0</td>\n",
       "      <td>0</td>\n",
       "      <td>0</td>\n",
       "      <td>...</td>\n",
       "      <td>6.0</td>\n",
       "      <td>3.0</td>\n",
       "      <td>1.0</td>\n",
       "      <td>1.0</td>\n",
       "      <td>0.0</td>\n",
       "      <td>0.0</td>\n",
       "      <td>0.0</td>\n",
       "      <td>0.0</td>\n",
       "      <td>1.0</td>\n",
       "      <td>1.0</td>\n",
       "    </tr>\n",
       "    <tr>\n",
       "      <th>4</th>\n",
       "      <td>201506E098780</td>\n",
       "      <td>1</td>\n",
       "      <td>9</td>\n",
       "      <td>0</td>\n",
       "      <td>15</td>\n",
       "      <td>0</td>\n",
       "      <td>1</td>\n",
       "      <td>0</td>\n",
       "      <td>0</td>\n",
       "      <td>0</td>\n",
       "      <td>...</td>\n",
       "      <td>NaN</td>\n",
       "      <td>NaN</td>\n",
       "      <td>NaN</td>\n",
       "      <td>NaN</td>\n",
       "      <td>NaN</td>\n",
       "      <td>NaN</td>\n",
       "      <td>NaN</td>\n",
       "      <td>NaN</td>\n",
       "      <td>NaN</td>\n",
       "      <td>NaN</td>\n",
       "    </tr>\n",
       "    <tr>\n",
       "      <th>5</th>\n",
       "      <td>201506E098780</td>\n",
       "      <td>2</td>\n",
       "      <td>1</td>\n",
       "      <td>0</td>\n",
       "      <td>9</td>\n",
       "      <td>0</td>\n",
       "      <td>5</td>\n",
       "      <td>0</td>\n",
       "      <td>0</td>\n",
       "      <td>0</td>\n",
       "      <td>...</td>\n",
       "      <td>8.0</td>\n",
       "      <td>3.0</td>\n",
       "      <td>0.0</td>\n",
       "      <td>0.0</td>\n",
       "      <td>0.0</td>\n",
       "      <td>0.0</td>\n",
       "      <td>0.0</td>\n",
       "      <td>1.0</td>\n",
       "      <td>1.0</td>\n",
       "      <td>2.0</td>\n",
       "    </tr>\n",
       "    <tr>\n",
       "      <th>6</th>\n",
       "      <td>201506E098792</td>\n",
       "      <td>1</td>\n",
       "      <td>3</td>\n",
       "      <td>0</td>\n",
       "      <td>4</td>\n",
       "      <td>0</td>\n",
       "      <td>2</td>\n",
       "      <td>0</td>\n",
       "      <td>0</td>\n",
       "      <td>0</td>\n",
       "      <td>...</td>\n",
       "      <td>6.0</td>\n",
       "      <td>3.0</td>\n",
       "      <td>0.0</td>\n",
       "      <td>0.0</td>\n",
       "      <td>0.0</td>\n",
       "      <td>0.0</td>\n",
       "      <td>0.0</td>\n",
       "      <td>3.0</td>\n",
       "      <td>1.0</td>\n",
       "      <td>3.0</td>\n",
       "    </tr>\n",
       "    <tr>\n",
       "      <th>7</th>\n",
       "      <td>201506E098792</td>\n",
       "      <td>2</td>\n",
       "      <td>9</td>\n",
       "      <td>0</td>\n",
       "      <td>4</td>\n",
       "      <td>0</td>\n",
       "      <td>2</td>\n",
       "      <td>0</td>\n",
       "      <td>0</td>\n",
       "      <td>0</td>\n",
       "      <td>...</td>\n",
       "      <td>NaN</td>\n",
       "      <td>NaN</td>\n",
       "      <td>NaN</td>\n",
       "      <td>NaN</td>\n",
       "      <td>NaN</td>\n",
       "      <td>NaN</td>\n",
       "      <td>NaN</td>\n",
       "      <td>NaN</td>\n",
       "      <td>NaN</td>\n",
       "      <td>NaN</td>\n",
       "    </tr>\n",
       "    <tr>\n",
       "      <th>8</th>\n",
       "      <td>201506E098804</td>\n",
       "      <td>1</td>\n",
       "      <td>9</td>\n",
       "      <td>0</td>\n",
       "      <td>14</td>\n",
       "      <td>0</td>\n",
       "      <td>1</td>\n",
       "      <td>0</td>\n",
       "      <td>0</td>\n",
       "      <td>0</td>\n",
       "      <td>...</td>\n",
       "      <td>3.0</td>\n",
       "      <td>3.0</td>\n",
       "      <td>1.0</td>\n",
       "      <td>2.0</td>\n",
       "      <td>0.0</td>\n",
       "      <td>0.0</td>\n",
       "      <td>0.0</td>\n",
       "      <td>0.0</td>\n",
       "      <td>1.0</td>\n",
       "      <td>2.0</td>\n",
       "    </tr>\n",
       "    <tr>\n",
       "      <th>9</th>\n",
       "      <td>201506E098826</td>\n",
       "      <td>1</td>\n",
       "      <td>9</td>\n",
       "      <td>0</td>\n",
       "      <td>4</td>\n",
       "      <td>0</td>\n",
       "      <td>0</td>\n",
       "      <td>0</td>\n",
       "      <td>0</td>\n",
       "      <td>0</td>\n",
       "      <td>...</td>\n",
       "      <td>5.0</td>\n",
       "      <td>3.0</td>\n",
       "      <td>0.0</td>\n",
       "      <td>0.0</td>\n",
       "      <td>1.0</td>\n",
       "      <td>0.0</td>\n",
       "      <td>0.0</td>\n",
       "      <td>9.0</td>\n",
       "      <td>1.0</td>\n",
       "      <td>1.0</td>\n",
       "    </tr>\n",
       "  </tbody>\n",
       "</table>\n",
       "<p>10 rows × 70 columns</p>\n",
       "</div>"
      ],
      "text/plain": [
       "  accident_index  vehicle_reference  vehicle_type  towing_and_articulation  \\\n",
       "0  201506E098757                  2             9                        0   \n",
       "1  201506E098766                  1             9                        0   \n",
       "2  201506E098766                  2             9                        0   \n",
       "3  201506E098777                  1            20                        0   \n",
       "4  201506E098780                  1             9                        0   \n",
       "5  201506E098780                  2             1                        0   \n",
       "6  201506E098792                  1             3                        0   \n",
       "7  201506E098792                  2             9                        0   \n",
       "8  201506E098804                  1             9                        0   \n",
       "9  201506E098826                  1             9                        0   \n",
       "\n",
       "   vehicle_manoeuvre  vehicle_location-restricted_lane  junction_location  \\\n",
       "0                 18                                 0                  8   \n",
       "1                  9                                 0                  8   \n",
       "2                 18                                 0                  8   \n",
       "3                  4                                 0                  0   \n",
       "4                 15                                 0                  1   \n",
       "5                  9                                 0                  5   \n",
       "6                  4                                 0                  2   \n",
       "7                  4                                 0                  2   \n",
       "8                 14                                 0                  1   \n",
       "9                  4                                 0                  0   \n",
       "\n",
       "   skidding_and_overturning  hit_object_in_carriageway  \\\n",
       "0                         0                          0   \n",
       "1                         0                          0   \n",
       "2                         0                          0   \n",
       "3                         0                          0   \n",
       "4                         0                          0   \n",
       "5                         0                          0   \n",
       "6                         0                          0   \n",
       "7                         0                          0   \n",
       "8                         0                          0   \n",
       "9                         0                          0   \n",
       "\n",
       "   vehicle_leaving_carriageway  ...  age_band_of_casualty  casualty_severity  \\\n",
       "0                            0  ...                   NaN                NaN   \n",
       "1                            0  ...                   NaN                NaN   \n",
       "2                            0  ...                   8.0                3.0   \n",
       "3                            0  ...                   6.0                3.0   \n",
       "4                            0  ...                   NaN                NaN   \n",
       "5                            0  ...                   8.0                3.0   \n",
       "6                            0  ...                   6.0                3.0   \n",
       "7                            0  ...                   NaN                NaN   \n",
       "8                            0  ...                   3.0                3.0   \n",
       "9                            0  ...                   5.0                3.0   \n",
       "\n",
       "   pedestrian_location  pedestrian_movement  car_passenger  \\\n",
       "0                  NaN                  NaN            NaN   \n",
       "1                  NaN                  NaN            NaN   \n",
       "2                  0.0                  0.0            0.0   \n",
       "3                  1.0                  1.0            0.0   \n",
       "4                  NaN                  NaN            NaN   \n",
       "5                  0.0                  0.0            0.0   \n",
       "6                  0.0                  0.0            0.0   \n",
       "7                  NaN                  NaN            NaN   \n",
       "8                  1.0                  2.0            0.0   \n",
       "9                  0.0                  0.0            1.0   \n",
       "\n",
       "   bus_or_coach_passenger  pedestrian_road_maintenance_worker  casualty_type  \\\n",
       "0                     NaN                                 NaN            NaN   \n",
       "1                     NaN                                 NaN            NaN   \n",
       "2                     0.0                                 0.0            9.0   \n",
       "3                     0.0                                 0.0            0.0   \n",
       "4                     NaN                                 NaN            NaN   \n",
       "5                     0.0                                 0.0            1.0   \n",
       "6                     0.0                                 0.0            3.0   \n",
       "7                     NaN                                 NaN            NaN   \n",
       "8                     0.0                                 0.0            0.0   \n",
       "9                     0.0                                 0.0            9.0   \n",
       "\n",
       "   casualty_home_area_type  casualty_imd_decile  \n",
       "0                      NaN                  NaN  \n",
       "1                      NaN                  NaN  \n",
       "2                      1.0                  3.0  \n",
       "3                      1.0                  1.0  \n",
       "4                      NaN                  NaN  \n",
       "5                      1.0                  2.0  \n",
       "6                      1.0                  3.0  \n",
       "7                      NaN                  NaN  \n",
       "8                      1.0                  2.0  \n",
       "9                      1.0                  1.0  \n",
       "\n",
       "[10 rows x 70 columns]"
      ]
     },
     "execution_count": 217,
     "metadata": {},
     "output_type": "execute_result"
    }
   ],
   "source": [
    "print(df.shape)\n",
    "df[0:10]"
   ]
  },
  {
   "cell_type": "markdown",
   "metadata": {},
   "source": [
    "## Target variable balance"
   ]
  },
  {
   "cell_type": "markdown",
   "metadata": {},
   "source": [
    "Checking that there is a balance of 'severity' data-points. It seems there is a reasonably balanced distribution, but this may be something I need to come back to if the models learn just to predict '3' incorrectly."
   ]
  },
  {
   "cell_type": "code",
   "execution_count": 218,
   "metadata": {},
   "outputs": [
    {
     "data": {
      "text/plain": [
       "3    242477\n",
       "2     39206\n",
       "1      3648\n",
       "Name: accident_severity, dtype: int64"
      ]
     },
     "execution_count": 218,
     "metadata": {},
     "output_type": "execute_result"
    }
   ],
   "source": [
    "df['accident_severity'].value_counts()"
   ]
  },
  {
   "cell_type": "markdown",
   "metadata": {},
   "source": [
    "## Missing values"
   ]
  },
  {
   "cell_type": "markdown",
   "metadata": {},
   "source": [
    "The data shows some points relating to the below features were marked as '-1' or 'Unclassified', or '8'/'9' ('other'; 'unknown', in the case of weather conditions). I will change these to NaN, as I want to know how many actual data-points I have before I decide what to do with these missing values in order to be able to plot the data and see which features may have predictive value.\n",
    "\n",
    "\n",
    "The data below indicates all the 'imd' features are now entirely composed of 'null' values. This is because the values were all 'unclassified' in the original dataset.\n",
    "\n",
    "Likewise, the 'sex of driver' column had possible values of 1,2 or 3 (3 being 'unclassified'). "
   ]
  },
  {
   "cell_type": "code",
   "execution_count": 219,
   "metadata": {},
   "outputs": [
    {
     "name": "stdout",
     "output_type": "stream",
     "text": [
      "1.0    233216\n",
      "2.0     31375\n",
      "4.0      4716\n",
      "5.0      4627\n",
      "7.0      1404\n",
      "3.0      1050\n",
      "6.0       357\n",
      "Name: weather_conditions, dtype: int64\n"
     ]
    },
    {
     "data": {
      "text/plain": [
       "1.0    187557\n",
       "2.0     81078\n",
       "Name: sex_of_driver, dtype: int64"
      ]
     },
     "execution_count": 219,
     "metadata": {},
     "output_type": "execute_result"
    }
   ],
   "source": [
    "df=df.replace([-1, 'Unclassified'], np.nan)\n",
    "df['weather_conditions']=df['weather_conditions'].replace([8, 9], np.nan)\n",
    "df['sex_of_driver']=df['sex_of_driver'].replace([3], np.nan)\n",
    "#Sanity check to see whether this has worked\n",
    "print(df['weather_conditions'].value_counts())\n",
    "df['sex_of_driver'].value_counts()"
   ]
  },
  {
   "cell_type": "markdown",
   "metadata": {},
   "source": [
    "The below shows there are now more 'null' values."
   ]
  },
  {
   "cell_type": "code",
   "execution_count": 220,
   "metadata": {},
   "outputs": [
    {
     "name": "stdout",
     "output_type": "stream",
     "text": [
      "<class 'pandas.core.frame.DataFrame'>\n",
      "RangeIndex: 285331 entries, 0 to 285330\n",
      "Data columns (total 70 columns):\n",
      " #   Column                                            Non-Null Count   Dtype  \n",
      "---  ------                                            --------------   -----  \n",
      " 0   accident_index                                    285331 non-null  object \n",
      " 1   vehicle_reference                                 285331 non-null  int64  \n",
      " 2   vehicle_type                                      285273 non-null  float64\n",
      " 3   towing_and_articulation                           285056 non-null  float64\n",
      " 4   vehicle_manoeuvre                                 285173 non-null  float64\n",
      " 5   vehicle_location-restricted_lane                  285178 non-null  float64\n",
      " 6   junction_location                                 285259 non-null  float64\n",
      " 7   skidding_and_overturning                          285179 non-null  float64\n",
      " 8   hit_object_in_carriageway                         285192 non-null  float64\n",
      " 9   vehicle_leaving_carriageway                       285194 non-null  float64\n",
      " 10  hit_object_off_carriageway                        285329 non-null  float64\n",
      " 11  1st_point_of_impact                               285154 non-null  float64\n",
      " 12  was_vehicle_left_hand_drive?                      284202 non-null  float64\n",
      " 13  journey_purpose_of_driver                         285306 non-null  float64\n",
      " 14  sex_of_driver                                     268635 non-null  float64\n",
      " 15  age_of_driver                                     255053 non-null  float64\n",
      " 16  age_band_of_driver                                255053 non-null  float64\n",
      " 17  engine_capacity_(cc)                              208063 non-null  float64\n",
      " 18  propulsion_code                                   208627 non-null  float64\n",
      " 19  age_of_vehicle                                    197529 non-null  float64\n",
      " 20  driver_imd_decile                                 0 non-null       float64\n",
      " 21  driver_home_area_type                             235846 non-null  float64\n",
      " 22  vehicle_imd_decile                                0 non-null       float64\n",
      " 23  NUmber_of_Casualities_unique_to_accident_index    285331 non-null  int64  \n",
      " 24  No_of_Vehicles_involved_unique_to_accident_index  285331 non-null  int64  \n",
      " 25  location_easting_osgr                             285270 non-null  float64\n",
      " 26  location_northing_osgr                            285270 non-null  float64\n",
      " 27  longitude                                         285270 non-null  float64\n",
      " 28  latitude                                          285270 non-null  float64\n",
      " 29  police_force                                      285331 non-null  int64  \n",
      " 30  accident_severity                                 285331 non-null  int64  \n",
      " 31  number_of_vehicles                                285331 non-null  int64  \n",
      " 32  number_of_casualties                              285331 non-null  int64  \n",
      " 33  date                                              285331 non-null  object \n",
      " 34  day_of_week                                       285331 non-null  int64  \n",
      " 35  time                                              285298 non-null  object \n",
      " 36  local_authority_(district)                        285331 non-null  int64  \n",
      " 37  local_authority_(highway)                         285331 non-null  object \n",
      " 38  1st_road_class                                    285331 non-null  int64  \n",
      " 39  1st_road_number                                   285331 non-null  int64  \n",
      " 40  road_type                                         285331 non-null  int64  \n",
      " 41  speed_limit                                       285331 non-null  int64  \n",
      " 42  junction_detail                                   285329 non-null  float64\n",
      " 43  junction_control                                  172464 non-null  float64\n",
      " 44  2nd_road_class                                    171327 non-null  float64\n",
      " 45  2nd_road_number                                   283839 non-null  float64\n",
      " 46  pedestrian_crossing-human_control                 285050 non-null  float64\n",
      " 47  pedestrian_crossing-physical_facilities           285069 non-null  float64\n",
      " 48  light_conditions                                  285331 non-null  int64  \n",
      " 49  weather_conditions                                276745 non-null  float64\n",
      " 50  road_surface_conditions                           284786 non-null  float64\n",
      " 51  special_conditions_at_site                        285114 non-null  float64\n",
      " 52  carriageway_hazards                               285138 non-null  float64\n",
      " 53  urban_or_rural_area                               285331 non-null  int64  \n",
      " 54  did_police_officer_attend_scene_of_accident       285311 non-null  float64\n",
      " 55  lsoa_of_accident_location                         268252 non-null  object \n",
      " 56  casualty_reference                                186072 non-null  float64\n",
      " 57  casualty_class                                    186072 non-null  float64\n",
      " 58  sex_of_casualty                                   186011 non-null  float64\n",
      " 59  age_of_casualty                                   183081 non-null  float64\n",
      " 60  age_band_of_casualty                              183081 non-null  float64\n",
      " 61  casualty_severity                                 186072 non-null  float64\n",
      " 62  pedestrian_location                               186070 non-null  float64\n",
      " 63  pedestrian_movement                               186070 non-null  float64\n",
      " 64  car_passenger                                     185696 non-null  float64\n",
      " 65  bus_or_coach_passenger                            186047 non-null  float64\n",
      " 66  pedestrian_road_maintenance_worker                185919 non-null  float64\n",
      " 67  casualty_type                                     186072 non-null  float64\n",
      " 68  casualty_home_area_type                           164920 non-null  float64\n",
      " 69  casualty_imd_decile                               149321 non-null  float64\n",
      "dtypes: float64(50), int64(15), object(5)\n",
      "memory usage: 152.4+ MB\n"
     ]
    }
   ],
   "source": [
    "df.info()"
   ]
  },
  {
   "cell_type": "markdown",
   "metadata": {},
   "source": [
    "I want to convert the 'time' values to date-time objects, and drop those rows without values (there are not many). Dropping the 'null' records for 'carriageway hazards'."
   ]
  },
  {
   "cell_type": "code",
   "execution_count": 221,
   "metadata": {},
   "outputs": [],
   "source": [
    "df['time'] = pd.to_datetime(df['time'])"
   ]
  },
  {
   "cell_type": "markdown",
   "metadata": {},
   "source": [
    "Towing and articulation data-points below very unbalanced data (almost all 'no tow/articulation'). I will leave this out, for this reason."
   ]
  },
  {
   "cell_type": "code",
   "execution_count": 222,
   "metadata": {},
   "outputs": [
    {
     "data": {
      "text/plain": [
       "0.0    281045\n",
       "1.0      2691\n",
       "4.0       921\n",
       "5.0       198\n",
       "3.0       138\n",
       "2.0        63\n",
       "Name: towing_and_articulation, dtype: int64"
      ]
     },
     "execution_count": 222,
     "metadata": {},
     "output_type": "execute_result"
    }
   ],
   "source": [
    "df['towing_and_articulation'].value_counts()"
   ]
  },
  {
   "cell_type": "markdown",
   "metadata": {},
   "source": [
    "## Data cleaning"
   ]
  },
  {
   "cell_type": "markdown",
   "metadata": {},
   "source": [
    "I will drop the rows with missing values from the following features, which I wish to plot, as there are quite a lot of missing values."
   ]
  },
  {
   "cell_type": "code",
   "execution_count": 223,
   "metadata": {},
   "outputs": [
    {
     "data": {
      "text/plain": [
       "(120808, 70)"
      ]
     },
     "execution_count": 223,
     "metadata": {},
     "output_type": "execute_result"
    }
   ],
   "source": [
    "df.dropna(subset = ['road_surface_conditions', 'urban_or_rural_area', 'car_passenger', 'age_of_driver', 'weather_conditions', 'age_of_vehicle', 'sex_of_driver', 'vehicle_type', 'light_conditions', 'speed_limit', 'carriageway_hazards', 'road_type', 'day_of_week'], inplace=True)\n",
    "df.shape"
   ]
  },
  {
   "cell_type": "markdown",
   "metadata": {},
   "source": [
    "## Plotting the data to see correlations"
   ]
  },
  {
   "cell_type": "markdown",
   "metadata": {},
   "source": [
    "Below we can see the greater overall proportion of drivers involved in accidents is male, as well as in serious and fatal ones. The spread over days of the week is quite even."
   ]
  },
  {
   "cell_type": "markdown",
   "metadata": {},
   "source": [
    "Male = 1.0; Female = 2.0; day 6=Saturday"
   ]
  },
  {
   "cell_type": "code",
   "execution_count": 224,
   "metadata": {},
   "outputs": [
    {
     "data": {
      "image/png": "[encoded data removed]",
      "text/plain": [
       "<Figure size 432x216 with 2 Axes>"
      ]
     },
     "metadata": {
      "needs_background": "light"
     },
     "output_type": "display_data"
    }
   ],
   "source": [
    "import seaborn as sns\n",
    "\n",
    "bins=np.linspace(df.day_of_week.min(), df.day_of_week.max(), 10)\n",
    "g = sns.FacetGrid(df, col=\"sex_of_driver\", hue=\"accident_severity\", palette=\"Set3\", col_wrap=2, hue_order=[3,2,1])\n",
    "g.map(plt.hist, 'day_of_week', bins=bins, ec=\"k\")\n",
    "g.axes[-1].legend()\n",
    "plt.show()\n",
    "\n"
   ]
  },
  {
   "cell_type": "markdown",
   "metadata": {},
   "source": [
    "The below chart shows that, for both genders, drivers around 25 years' old seem to represent the peak age for likelihood of being involved in all categories of road accidents, with the data gradually declining from that point. The proportion of severe accidents also seems to follow this trend. I am perhaps slightly surprised the peak is not slightly lower, as in the UK it is legal to drive from age 17."
   ]
  },
  {
   "cell_type": "code",
   "execution_count": 225,
   "metadata": {},
   "outputs": [
    {
     "data": {
      "image/png": "[encoded data removed]",
      "text/plain": [
       "<Figure size 432x216 with 2 Axes>"
      ]
     },
     "metadata": {
      "needs_background": "light"
     },
     "output_type": "display_data"
    }
   ],
   "source": [
    "bins=np.linspace(df.age_of_driver.min(), df.age_of_driver.max(), 10)\n",
    "g = sns.FacetGrid(df, col=\"sex_of_driver\", hue=\"accident_severity\", palette=\"Set3\", col_wrap=2, hue_order=[3,2,1])\n",
    "g.map(plt.hist, 'age_of_driver', bins=bins, ec=\"k\")\n",
    "g.axes[-1].legend()\n",
    "plt.show()\n",
    "\n"
   ]
  },
  {
   "cell_type": "markdown",
   "metadata": {},
   "source": [
    "The below chart seems to show that the data is heavily unbalanced for weather conditions data-points (almost all of the points relate to 'fine weather'). There is also not much relationship between weather type and accident severity."
   ]
  },
  {
   "cell_type": "code",
   "execution_count": 226,
   "metadata": {},
   "outputs": [
    {
     "data": {
      "image/png": "[encoded data removed]",
      "text/plain": [
       "<Figure size 432x216 with 2 Axes>"
      ]
     },
     "metadata": {
      "needs_background": "light"
     },
     "output_type": "display_data"
    }
   ],
   "source": [
    "bins=np.linspace(df.weather_conditions.min(), df.weather_conditions.max(), 10)\n",
    "g = sns.FacetGrid(df, col='urban_or_rural_area', hue=\"accident_severity\", palette=\"Set3\", col_wrap=2, hue_order=[3,2,1])\n",
    "g.map(plt.hist, 'weather_conditions', bins=bins, ec=\"k\")\n",
    "g.axes[-1].legend()\n",
    "plt.show()\n",
    "\n"
   ]
  },
  {
   "cell_type": "markdown",
   "metadata": {},
   "source": [
    "From the below we can see the data is fairly unbalanced in favour of there being no carriageway hazards."
   ]
  },
  {
   "cell_type": "code",
   "execution_count": 227,
   "metadata": {},
   "outputs": [
    {
     "data": {
      "image/png": "[encoded data removed]",
      "text/plain": [
       "<Figure size 432x648 with 6 Axes>"
      ]
     },
     "metadata": {
      "needs_background": "light"
     },
     "output_type": "display_data"
    }
   ],
   "source": [
    "bins=np.linspace(df.weather_conditions.min(), df.weather_conditions.max(), 10)\n",
    "g = sns.FacetGrid(df, col='carriageway_hazards', hue=\"accident_severity\", palette=\"Set3\", col_wrap=2, hue_order=[3,2,1])\n",
    "g.map(plt.hist, 'vehicle_type', bins=bins, ec=\"k\")\n",
    "g.axes[-1].legend()\n",
    "plt.show()"
   ]
  },
  {
   "cell_type": "code",
   "execution_count": 228,
   "metadata": {},
   "outputs": [
    {
     "data": {
      "image/png": "[encoded data removed]",
      "text/plain": [
       "<Figure size 432x648 with 5 Axes>"
      ]
     },
     "metadata": {
      "needs_background": "light"
     },
     "output_type": "display_data"
    }
   ],
   "source": [
    "bins=np.linspace(df.weather_conditions.min(), df.weather_conditions.max(), 10)\n",
    "g = sns.FacetGrid(df, col='road_surface_conditions', hue=\"accident_severity\", palette=\"Set3\", col_wrap=2, hue_order=[3,2,1])\n",
    "g.map(plt.hist, 'vehicle_type', bins=bins, ec=\"k\")\n",
    "g.axes[-1].legend()\n",
    "plt.show()"
   ]
  },
  {
   "cell_type": "markdown",
   "metadata": {},
   "source": [
    "The above seems to be interesting: a much higher proportion of accidents occurring on dry road conditions. There are very few results for  road conditions including Snow\n",
    "Frost or ice, Flood over 3cm. deep, Oil or diesel, Mud. I will drop these columns."
   ]
  },
  {
   "cell_type": "code",
   "execution_count": 229,
   "metadata": {},
   "outputs": [
    {
     "data": {
      "text/plain": [
       "1.0    86564\n",
       "2.0    32644\n",
       "Name: road_surface_conditions, dtype: int64"
      ]
     },
     "execution_count": 229,
     "metadata": {},
     "output_type": "execute_result"
    }
   ],
   "source": [
    "df['road_surface_conditions']=df['road_surface_conditions'].replace([3, 4, 5, 6, 7], np.nan).dropna()\n",
    "df['road_surface_conditions'].value_counts()"
   ]
  },
  {
   "cell_type": "code",
   "execution_count": 230,
   "metadata": {},
   "outputs": [
    {
     "data": {
      "image/png": "[encoded data removed]",
      "text/plain": [
       "<Figure size 432x216 with 2 Axes>"
      ]
     },
     "metadata": {
      "needs_background": "light"
     },
     "output_type": "display_data"
    }
   ],
   "source": [
    "bins=np.linspace(df.weather_conditions.min(), df.weather_conditions.max(), 15)\n",
    "g = sns.FacetGrid(df, col='road_surface_conditions', hue=\"accident_severity\", palette=\"Set3\", col_wrap=2, hue_order=[3,2,1])\n",
    "g.map(plt.hist, 'vehicle_type', bins=bins, ec=\"k\")\n",
    "g.axes[-1].legend()\n",
    "plt.show()"
   ]
  },
  {
   "cell_type": "markdown",
   "metadata": {},
   "source": [
    "This is a lot clearer. Here you can see there is a clear correlation between occurrence of accidents (and higher proportion of serious/fatal) on dry roads, which is somewhat surprising. We can also see a perhaps unsurprising higher incidence of serious and fatal accidents on Motorcycle over 500cc (vehicle type 5). Motorcyles under 500c (number 4) seem not to be quite as bad."
   ]
  },
  {
   "cell_type": "code",
   "execution_count": 231,
   "metadata": {},
   "outputs": [
    {
     "data": {
      "image/png": "[encoded data removed]",
      "text/plain": [
       "<Figure size 432x648 with 6 Axes>"
      ]
     },
     "metadata": {
      "needs_background": "light"
     },
     "output_type": "display_data"
    }
   ],
   "source": [
    "bins=np.linspace(df.weather_conditions.min(), df.weather_conditions.max(), 15)\n",
    "g = sns.FacetGrid(df, col='road_type', hue=\"accident_severity\", palette=\"Set3\", col_wrap=2, hue_order=[3,2,1])\n",
    "g.map(plt.hist, 'vehicle_type', bins=bins, ec=\"k\")\n",
    "g.axes[-1].legend()\n",
    "plt.show()"
   ]
  },
  {
   "cell_type": "markdown",
   "metadata": {},
   "source": [
    "As we can see above, there is a clear correlation between accidents occurring on a single-carriageway (road-type '6') as opposed to dual-carriageway etc. "
   ]
  },
  {
   "cell_type": "markdown",
   "metadata": {},
   "source": [
    "# Getting rid of null values for our features"
   ]
  },
  {
   "cell_type": "code",
   "execution_count": 232,
   "metadata": {},
   "outputs": [
    {
     "data": {
      "text/plain": [
       "road_type                     0\n",
       "road_surface_conditions    1600\n",
       "sex_of_driver                 0\n",
       "vehicle_type                  0\n",
       "dtype: int64"
      ]
     },
     "execution_count": 232,
     "metadata": {},
     "output_type": "execute_result"
    }
   ],
   "source": [
    "df[['road_type', 'road_surface_conditions', 'sex_of_driver', 'vehicle_type']].isnull().sum()"
   ]
  },
  {
   "cell_type": "code",
   "execution_count": 233,
   "metadata": {},
   "outputs": [
    {
     "data": {
      "text/plain": [
       "0"
      ]
     },
     "execution_count": 233,
     "metadata": {},
     "output_type": "execute_result"
    }
   ],
   "source": [
    "df.dropna(subset = [\"road_surface_conditions\"], inplace=True)\n",
    "df['road_surface_conditions'].isnull().sum()"
   ]
  },
  {
   "cell_type": "code",
   "execution_count": 234,
   "metadata": {},
   "outputs": [],
   "source": [
    "df_1=df[['sex_of_driver', 'vehicle_type', 'road_surface_conditions', 'road_type']]"
   ]
  },
  {
   "cell_type": "code",
   "execution_count": 235,
   "metadata": {},
   "outputs": [
    {
     "data": {
      "text/plain": [
       "sex_of_driver              0\n",
       "vehicle_type               0\n",
       "road_surface_conditions    0\n",
       "road_type                  0\n",
       "dtype: int64"
      ]
     },
     "execution_count": 235,
     "metadata": {},
     "output_type": "execute_result"
    }
   ],
   "source": [
    "df_1.isnull().sum()"
   ]
  },
  {
   "cell_type": "code",
   "execution_count": 236,
   "metadata": {},
   "outputs": [
    {
     "data": {
      "text/plain": [
       "(119208, 70)"
      ]
     },
     "execution_count": 236,
     "metadata": {},
     "output_type": "execute_result"
    }
   ],
   "source": [
    "df.shape"
   ]
  },
  {
   "cell_type": "markdown",
   "metadata": {},
   "source": [
    "## Creating X feature and y target variable arrays"
   ]
  },
  {
   "cell_type": "markdown",
   "metadata": {},
   "source": [
    "I'm going to create NumPy arrays for our chosen features, before normalising their values using Sklearn's standardscaler. I am going to do this as the scales are different across the features, so they need to be converted into comparable values with equal weights. I will then create our chosen target variable array, and I will see how it performs on a Logistic Regression model."
   ]
  },
  {
   "cell_type": "code",
   "execution_count": 237,
   "metadata": {},
   "outputs": [
    {
     "data": {
      "text/plain": [
       "array([[ 1., 20.,  1.,  6.],\n",
       "       [ 2.,  3.,  1.,  3.],\n",
       "       [ 1.,  9.,  1.,  3.],\n",
       "       [ 1.,  9.,  1.,  3.],\n",
       "       [ 2.,  9.,  1.,  6.]])"
      ]
     },
     "execution_count": 237,
     "metadata": {},
     "output_type": "execute_result"
    }
   ],
   "source": [
    "X = np.asarray(df_1)\n",
    "X[0:5]"
   ]
  },
  {
   "cell_type": "code",
   "execution_count": 238,
   "metadata": {},
   "outputs": [],
   "source": [
    "y = np.asarray(df['accident_severity'])\n"
   ]
  },
  {
   "cell_type": "code",
   "execution_count": 239,
   "metadata": {},
   "outputs": [
    {
     "data": {
      "text/plain": [
       "array([[-0.73,  1.9 , -0.61,  0.54],\n",
       "       [ 1.37, -1.07, -0.61, -1.31],\n",
       "       [-0.73, -0.02, -0.61, -1.31],\n",
       "       [-0.73, -0.02, -0.61, -1.31],\n",
       "       [ 1.37, -0.02, -0.61,  0.54]])"
      ]
     },
     "execution_count": 239,
     "metadata": {},
     "output_type": "execute_result"
    }
   ],
   "source": [
    "from sklearn import preprocessing\n",
    "X = preprocessing.StandardScaler().fit(X).transform(X)\n",
    "X[0:5]"
   ]
  },
  {
   "cell_type": "markdown",
   "metadata": {},
   "source": [
    "## Splitting the data using train_test_split\n"
   ]
  },
  {
   "cell_type": "code",
   "execution_count": 240,
   "metadata": {},
   "outputs": [
    {
     "name": "stdout",
     "output_type": "stream",
     "text": [
      "Train set: (95366, 4) (95366,)\n",
      "Test set: (23842, 4) (23842,)\n"
     ]
    }
   ],
   "source": [
    "from sklearn.model_selection import train_test_split\n",
    "X_train, X_test, y_train, y_test = train_test_split(X, y, test_size=0.2, random_state=4)\n",
    "print ('Train set:', X_train.shape,  y_train.shape)\n",
    "print ('Test set:', X_test.shape,  y_test.shape)"
   ]
  },
  {
   "cell_type": "markdown",
   "metadata": {},
   "source": [
    "## Logistic Regression"
   ]
  },
  {
   "cell_type": "markdown",
   "metadata": {},
   "source": [
    "The logistic regression algorithm can predict categorical target variable values, as well as provide an estimated probability of each feature variable value belonging to which category. Let's see how it performs. I have added a regularisation parameter to try and prevent overfitting on the data."
   ]
  },
  {
   "cell_type": "code",
   "execution_count": 242,
   "metadata": {},
   "outputs": [
    {
     "data": {
      "text/plain": [
       "LogisticRegression(C=0.1, class_weight=None, dual=False, fit_intercept=True,\n",
       "                   intercept_scaling=1, l1_ratio=None, max_iter=100,\n",
       "                   multi_class='auto', n_jobs=None, penalty='l2',\n",
       "                   random_state=None, solver='liblinear', tol=0.0001, verbose=0,\n",
       "                   warm_start=False)"
      ]
     },
     "execution_count": 242,
     "metadata": {},
     "output_type": "execute_result"
    }
   ],
   "source": [
    "from sklearn.linear_model import LogisticRegression\n",
    "from sklearn.metrics import confusion_matrix\n",
    "LR = LogisticRegression(C=0.1, solver='liblinear').fit(X_train,y_train)\n",
    "LR"
   ]
  },
  {
   "cell_type": "code",
   "execution_count": 243,
   "metadata": {},
   "outputs": [
    {
     "name": "stdout",
     "output_type": "stream",
     "text": [
      "[3 3 3 3 3]\n",
      "[3 3 3 3 3]\n"
     ]
    }
   ],
   "source": [
    "yhat = LR.predict(X_test)\n",
    "print(yhat[0:5])\n",
    "print(y[0:5])"
   ]
  },
  {
   "cell_type": "code",
   "execution_count": 244,
   "metadata": {},
   "outputs": [
    {
     "name": "stdout",
     "output_type": "stream",
     "text": [
      "[[0.03 0.22 0.75]\n",
      " [0.02 0.18 0.8 ]\n",
      " [0.02 0.19 0.78]\n",
      " [0.01 0.11 0.88]\n",
      " [0.02 0.18 0.8 ]]\n"
     ]
    }
   ],
   "source": [
    "yhat_prob = LR.predict_proba(X_test)\n",
    "print(yhat_prob[0:5])\n"
   ]
  },
  {
   "cell_type": "markdown",
   "metadata": {},
   "source": [
    "## Model evaluation"
   ]
  },
  {
   "cell_type": "code",
   "execution_count": 246,
   "metadata": {},
   "outputs": [
    {
     "name": "stdout",
     "output_type": "stream",
     "text": [
      "LR Jaccard index: 0.83\n",
      "LR F1-score: 0.76\n",
      "LR LogLoss: 0.50\n"
     ]
    },
    {
     "name": "stderr",
     "output_type": "stream",
     "text": [
      "/opt/anaconda3/lib/python3.7/site-packages/sklearn/metrics/_classification.py:664: FutureWarning: jaccard_similarity_score has been deprecated and replaced with jaccard_score. It will be removed in version 0.23. This implementation has surprising behavior for binary and multiclass classification tasks.\n",
      "  FutureWarning)\n"
     ]
    }
   ],
   "source": [
    "from sklearn.metrics import jaccard_similarity_score\n",
    "from sklearn.metrics import f1_score\n",
    "from sklearn.metrics import log_loss\n",
    "\n",
    "print(\"LR Jaccard index: %.2f\" % jaccard_similarity_score(y_test, yhat))\n",
    "print(\"LR F1-score: %.2f\" % f1_score(y_test, yhat, average='weighted') )\n",
    "print(\"LR LogLoss: %.2f\" % log_loss(y_test, yhat_prob))"
   ]
  },
  {
   "cell_type": "markdown",
   "metadata": {},
   "source": [
    "## A good result?"
   ]
  },
  {
   "cell_type": "markdown",
   "metadata": {},
   "source": [
    "As we can see above, this Logistic Regression model predicts a result based on a probability percentage that the model has that a data-point belongs to a particular category. Though it seems that our model performed well, I am somewhat worried that it has learnt to predict the value '3' just because that is what is predominantly represented within the data. Let's have a look at a confusion matrix to obtain more granularity on the predicted results."
   ]
  },
  {
   "cell_type": "code",
   "execution_count": 247,
   "metadata": {},
   "outputs": [
    {
     "name": "stdout",
     "output_type": "stream",
     "text": [
      "[[19874     0     0]\n",
      " [ 3557     0     0]\n",
      " [  411     0     0]]\n"
     ]
    }
   ],
   "source": [
    "from sklearn.metrics import classification_report, confusion_matrix\n",
    "import itertools\n",
    "def plot_confusion_matrix(cm, classes,\n",
    "                          normalize=False,\n",
    "                          title='Confusion matrix',\n",
    "                          cmap=plt.cm.Blues):\n",
    "    \n",
    "    if normalize:\n",
    "        cm = cm.astype('float') / cm.sum(axis=1)[:, np.newaxis]\n",
    "        print(\"Normalized confusion matrix\")\n",
    "    else:\n",
    "        print('Confusion matrix, without normalization')\n",
    "\n",
    "    print(cm)\n",
    "\n",
    "    plt.imshow(cm, interpolation='nearest', cmap=cmap)\n",
    "    plt.title(title)\n",
    "    plt.colorbar()\n",
    "    tick_marks = np.arange(len(classes))\n",
    "    plt.xticks(tick_marks, classes, rotation=45)\n",
    "    plt.yticks(tick_marks, classes)\n",
    "\n",
    "    fmt = '.2f' if normalize else 'd'\n",
    "    thresh = cm.max() / 2.\n",
    "    for i, j in itertools.product(range(cm.shape[0]), range(cm.shape[1])):\n",
    "        plt.text(j, i, format(cm[i, j], fmt),\n",
    "                 horizontalalignment=\"center\",\n",
    "                 color=\"white\" if cm[i, j] > thresh else \"black\")\n",
    "\n",
    "    plt.tight_layout()\n",
    "    plt.ylabel('True label')\n",
    "    plt.xlabel('Predicted label')\n",
    "print(confusion_matrix(y_test, yhat, labels=[3,2,1]))"
   ]
  },
  {
   "cell_type": "code",
   "execution_count": 248,
   "metadata": {},
   "outputs": [
    {
     "name": "stdout",
     "output_type": "stream",
     "text": [
      "Confusion matrix, without normalization\n",
      "[[19874     0     0]\n",
      " [ 3557     0     0]\n",
      " [  411     0     0]]\n"
     ]
    },
    {
     "data": {
      "image/png": "[encoded data removed]",
      "text/plain": [
       "<Figure size 432x288 with 2 Axes>"
      ]
     },
     "metadata": {
      "needs_background": "light"
     },
     "output_type": "display_data"
    }
   ],
   "source": [
    "# Compute confusion matrix\n",
    "cnf_matrix = confusion_matrix(y_test, yhat, labels=[3,2,1])\n",
    "np.set_printoptions(precision=2)\n",
    "\n",
    "\n",
    "# Plot non-normalized confusion matrix\n",
    "plt.figure()\n",
    "plot_confusion_matrix(cnf_matrix, classes=['severity=3','severity=2', 'severity=1'],normalize= False,  title='Confusion matrix')"
   ]
  },
  {
   "cell_type": "markdown",
   "metadata": {},
   "source": [
    "## Unbalanced results"
   ]
  },
  {
   "cell_type": "markdown",
   "metadata": {},
   "source": [
    "As we can see in the above confusion matrix, the model has not labelled any points as anything but 3!!\n",
    "\n",
    "Decision Tree models tend to do better with unbalanced data-sets, so I will see how well that performs before making any further decisions."
   ]
  },
  {
   "cell_type": "markdown",
   "metadata": {},
   "source": [
    "## Decision Tree"
   ]
  },
  {
   "cell_type": "code",
   "execution_count": 249,
   "metadata": {},
   "outputs": [
    {
     "data": {
      "text/plain": [
       "DecisionTreeClassifier(ccp_alpha=0.0, class_weight=None, criterion='entropy',\n",
       "                       max_depth=4, max_features=None, max_leaf_nodes=None,\n",
       "                       min_impurity_decrease=0.0, min_impurity_split=None,\n",
       "                       min_samples_leaf=1, min_samples_split=2,\n",
       "                       min_weight_fraction_leaf=0.0, presort='deprecated',\n",
       "                       random_state=None, splitter='best')"
      ]
     },
     "execution_count": 249,
     "metadata": {},
     "output_type": "execute_result"
    }
   ],
   "source": [
    "from sklearn.tree import DecisionTreeClassifier\n",
    "drugTree = DecisionTreeClassifier(criterion=\"entropy\", max_depth = 4)\n",
    "drugTree"
   ]
  },
  {
   "cell_type": "code",
   "execution_count": 250,
   "metadata": {},
   "outputs": [
    {
     "name": "stdout",
     "output_type": "stream",
     "text": [
      "[3 3 3 3 3]\n",
      "[3 3 3 3 3]\n"
     ]
    }
   ],
   "source": [
    "drugTree.fit(X_train,y_train)\n",
    "predTree = drugTree.predict(X_test)\n",
    "print (predTree [0:5])\n",
    "print (y_test [0:5])"
   ]
  },
  {
   "cell_type": "code",
   "execution_count": 251,
   "metadata": {},
   "outputs": [
    {
     "name": "stdout",
     "output_type": "stream",
     "text": [
      "DT Jaccard index: 0.83\n",
      "DT F1-score: 0.76\n"
     ]
    },
    {
     "name": "stderr",
     "output_type": "stream",
     "text": [
      "/opt/anaconda3/lib/python3.7/site-packages/sklearn/metrics/_classification.py:664: FutureWarning: jaccard_similarity_score has been deprecated and replaced with jaccard_score. It will be removed in version 0.23. This implementation has surprising behavior for binary and multiclass classification tasks.\n",
      "  FutureWarning)\n"
     ]
    }
   ],
   "source": [
    "print(\"DT Jaccard index: %.2f\" % jaccard_similarity_score(y_test, predTree))\n",
    "print(\"DT F1-score: %.2f\" % f1_score(y_test, predTree, average='weighted') )"
   ]
  },
  {
   "cell_type": "markdown",
   "metadata": {},
   "source": [
    "As we can see above, in terms of the Jaccard index and F1-score the two models have performed similarly.\n",
    "\n",
    "The models score highly, but I am worried it is assuming every point is a '3', and is not learning to generalise effectively (overfitting on the data).\n",
    "\n",
    "If this model was trying to predict presence of a rare disease, predicting 'no' all the time might seem like a good strategy. But, crucially, it will get 0% right when the patient does have the disease!"
   ]
  },
  {
   "cell_type": "markdown",
   "metadata": {},
   "source": [
    "## Balance the data-set"
   ]
  },
  {
   "cell_type": "markdown",
   "metadata": {},
   "source": [
    "To attempt to deal with the unbalanced nature of this data-set, I am going to shuffle the data, and ensure that our target variable values (slight, severe, and fatal accidents) are equally represented within our training and test data. Therefore, I am going to reduce the number of data-points labelled as '2' and '3' to the same number as '1' (2042)."
   ]
  },
  {
   "cell_type": "code",
   "execution_count": 252,
   "metadata": {},
   "outputs": [
    {
     "data": {
      "text/plain": [
       "3    99621\n",
       "2    17545\n",
       "1     2042\n",
       "Name: accident_severity, dtype: int64"
      ]
     },
     "execution_count": 252,
     "metadata": {},
     "output_type": "execute_result"
    }
   ],
   "source": [
    "df['accident_severity'].value_counts()"
   ]
  },
  {
   "cell_type": "code",
   "execution_count": 253,
   "metadata": {},
   "outputs": [
    {
     "data": {
      "image/png": "[encoded data removed]",
      "text/plain": [
       "<Figure size 576x576 with 1 Axes>"
      ]
     },
     "metadata": {
      "needs_background": "light"
     },
     "output_type": "display_data"
    }
   ],
   "source": [
    "# Shuffle the Dataset.\n",
    "shuffled_df = df.sample(frac=1,random_state=4)\n",
    "\n",
    "# Put all the fraud class in a separate dataset.\n",
    "class_1_df = shuffled_df.loc[shuffled_df['accident_severity'] == 1]\n",
    "\n",
    "class_2_df= shuffled_df.loc[shuffled_df['accident_severity'] == 2].sample(n=2042,random_state=42)\n",
    "\n",
    "#Randomly select 492 observations from the non-fraud (majority class)\n",
    "class_3_df = shuffled_df.loc[shuffled_df['accident_severity'] == 3].sample(n=2042,random_state=42)\n",
    "\n",
    "# Concatenate both dataframes again\n",
    "normalized_df = pd.concat([class_1_df, class_2_df, class_3_df])\n",
    "\n",
    "#plot the dataset after the undersampling\n",
    "plt.figure(figsize=(8, 8))\n",
    "sns.countplot('accident_severity', data=normalized_df)\n",
    "plt.title('Balanced Classes')\n",
    "plt.show()"
   ]
  },
  {
   "cell_type": "markdown",
   "metadata": {},
   "source": [
    "## Re-create X and y arrays and normalise the X"
   ]
  },
  {
   "cell_type": "code",
   "execution_count": 254,
   "metadata": {},
   "outputs": [
    {
     "data": {
      "text/plain": [
       "array([[-1.25,  0.62,  1.65, -0.06, -0.64,  1.02],\n",
       "       [ 0.6 ,  2.63, -0.6 , -0.6 , -0.64,  1.02],\n",
       "       [ 0.26,  0.99, -0.6 , -0.06,  0.95, -0.92],\n",
       "       [-0.63,  0.25, -0.6 , -0.06,  2.02,  1.67],\n",
       "       [-0.97,  0.8 , -0.6 ,  1.57, -0.64, -0.92]])"
      ]
     },
     "execution_count": 254,
     "metadata": {},
     "output_type": "execute_result"
    }
   ],
   "source": [
    "X=np.asarray(normalized_df[['age_of_driver', 'age_of_vehicle', 'sex_of_driver', 'vehicle_type', 'light_conditions', 'speed_limit']])\n",
    "X[0:5]\n",
    "from sklearn import preprocessing\n",
    "X = preprocessing.StandardScaler().fit(X).transform(X)\n",
    "X[0:5]"
   ]
  },
  {
   "cell_type": "code",
   "execution_count": 255,
   "metadata": {},
   "outputs": [
    {
     "data": {
      "text/plain": [
       "array([1, 1, 1, 1, 1])"
      ]
     },
     "execution_count": 255,
     "metadata": {},
     "output_type": "execute_result"
    }
   ],
   "source": [
    "y = np.asarray(normalized_df['accident_severity'])\n",
    "y [0:5]"
   ]
  },
  {
   "cell_type": "markdown",
   "metadata": {},
   "source": [
    "## Split the train and test data again"
   ]
  },
  {
   "cell_type": "code",
   "execution_count": 256,
   "metadata": {},
   "outputs": [
    {
     "name": "stdout",
     "output_type": "stream",
     "text": [
      "Train set: (4900, 6) (4900,)\n",
      "Test set: (1226, 6) (1226,)\n"
     ]
    }
   ],
   "source": [
    "from sklearn.model_selection import train_test_split\n",
    "X_train, X_test, y_train, y_test = train_test_split(X, y, test_size=0.2, random_state=4)\n",
    "print ('Train set:', X_train.shape,  y_train.shape)\n",
    "print ('Test set:', X_test.shape,  y_test.shape)"
   ]
  },
  {
   "cell_type": "markdown",
   "metadata": {},
   "source": [
    "## Logistic Regression - classification model 1"
   ]
  },
  {
   "cell_type": "code",
   "execution_count": 257,
   "metadata": {},
   "outputs": [
    {
     "data": {
      "text/plain": [
       "LogisticRegression(C=0.01, class_weight=None, dual=False, fit_intercept=True,\n",
       "                   intercept_scaling=1, l1_ratio=None, max_iter=100,\n",
       "                   multi_class='auto', n_jobs=None, penalty='l2',\n",
       "                   random_state=None, solver='liblinear', tol=0.0001, verbose=0,\n",
       "                   warm_start=False)"
      ]
     },
     "execution_count": 257,
     "metadata": {},
     "output_type": "execute_result"
    }
   ],
   "source": [
    "LR_1 = LogisticRegression(C=0.01, solver='liblinear').fit(X_train,y_train)\n",
    "LR_1"
   ]
  },
  {
   "cell_type": "code",
   "execution_count": 258,
   "metadata": {},
   "outputs": [
    {
     "name": "stdout",
     "output_type": "stream",
     "text": [
      "[3 3 1 2 2 3 1 3 3 3 3 3 2 3 2]\n",
      "[1 1 1 1 1 1 1 1 1 1 1 1 1 1 1]\n"
     ]
    }
   ],
   "source": [
    "y_hat_1 = LR_1.predict(X_test)\n",
    "print(y_hat_1[0:15])\n",
    "print(y[0:15])"
   ]
  },
  {
   "cell_type": "code",
   "execution_count": 259,
   "metadata": {},
   "outputs": [
    {
     "data": {
      "text/plain": [
       "array([[0.23, 0.38, 0.39],\n",
       "       [0.29, 0.34, 0.37],\n",
       "       [0.46, 0.33, 0.2 ],\n",
       "       ...,\n",
       "       [0.33, 0.35, 0.32],\n",
       "       [0.48, 0.3 , 0.23],\n",
       "       [0.33, 0.34, 0.33]])"
      ]
     },
     "execution_count": 259,
     "metadata": {},
     "output_type": "execute_result"
    }
   ],
   "source": [
    "yhat_1_prob = LR_1.predict_proba(X_test)\n",
    "yhat_1_prob"
   ]
  },
  {
   "cell_type": "code",
   "execution_count": 260,
   "metadata": {},
   "outputs": [
    {
     "name": "stdout",
     "output_type": "stream",
     "text": [
      "LR Jaccard index: 0.46\n",
      "LR F1-score: 0.43\n",
      "LR LogLoss: 1.02\n"
     ]
    },
    {
     "name": "stderr",
     "output_type": "stream",
     "text": [
      "/opt/anaconda3/lib/python3.7/site-packages/sklearn/metrics/_classification.py:664: FutureWarning: jaccard_similarity_score has been deprecated and replaced with jaccard_score. It will be removed in version 0.23. This implementation has surprising behavior for binary and multiclass classification tasks.\n",
      "  FutureWarning)\n"
     ]
    }
   ],
   "source": [
    "print(\"LR Jaccard index: %.2f\" % jaccard_similarity_score(y_test, y_hat_1))\n",
    "print(\"LR F1-score: %.2f\" % f1_score(y_test, y_hat_1, average='weighted') )\n",
    "print(\"LR LogLoss: %.2f\" % log_loss(y_test, yhat_1_prob))"
   ]
  },
  {
   "cell_type": "markdown",
   "metadata": {},
   "source": [
    "## Results"
   ]
  },
  {
   "cell_type": "markdown",
   "metadata": {},
   "source": [
    "As we can see above, the logistic regression model has not really learnt the trends underlying the data. It is not really sure what to predict. Let's see if the decision tree performs any better."
   ]
  },
  {
   "cell_type": "markdown",
   "metadata": {},
   "source": [
    "## Decision Tree - classification model 2"
   ]
  },
  {
   "cell_type": "code",
   "execution_count": 261,
   "metadata": {},
   "outputs": [
    {
     "name": "stdout",
     "output_type": "stream",
     "text": [
      "[3 2 1 3 1 3 1 3 1 3 3 2 3 2 2 3 1 1 1 1]\n",
      "[3 3 1 2 2 2 1 2 3 3 2 3 3 2 1 2 3 1 1 3]\n"
     ]
    }
   ],
   "source": [
    "drugTree_1 = DecisionTreeClassifier(criterion=\"entropy\", max_depth = 4)\n",
    "drugTree_1\n",
    "drugTree_1.fit(X_train,y_train)\n",
    "predTree_1 = drugTree_1.predict(X_test)\n",
    "print (predTree_1 [0:20])\n",
    "print (y_test [0:20])"
   ]
  },
  {
   "cell_type": "code",
   "execution_count": 262,
   "metadata": {},
   "outputs": [
    {
     "name": "stdout",
     "output_type": "stream",
     "text": [
      "DT Jaccard index: 0.46\n",
      "DT F1-score: 0.42\n"
     ]
    },
    {
     "name": "stderr",
     "output_type": "stream",
     "text": [
      "/opt/anaconda3/lib/python3.7/site-packages/sklearn/metrics/_classification.py:664: FutureWarning: jaccard_similarity_score has been deprecated and replaced with jaccard_score. It will be removed in version 0.23. This implementation has surprising behavior for binary and multiclass classification tasks.\n",
      "  FutureWarning)\n"
     ]
    }
   ],
   "source": [
    "print(\"DT Jaccard index: %.2f\" % jaccard_similarity_score(y_test, predTree_1))\n",
    "print(\"DT F1-score: %.2f\" % f1_score(y_test, predTree_1, average='weighted') )"
   ]
  },
  {
   "cell_type": "markdown",
   "metadata": {},
   "source": [
    "## Predictive power?"
   ]
  },
  {
   "cell_type": "markdown",
   "metadata": {},
   "source": [
    "The results for the decision tree algorithm are similar as for logistic regression. This seems to indicate that the features I have chosen do not really possess predictive power against the severity of a road accident. I will test a couple more models to see whether this is the correct assumption."
   ]
  },
  {
   "cell_type": "markdown",
   "metadata": {},
   "source": [
    "## K Nearest Neighbours - classification model 3"
   ]
  },
  {
   "cell_type": "code",
   "execution_count": 263,
   "metadata": {},
   "outputs": [
    {
     "data": {
      "text/plain": [
       "array([3, 3, 1, 2, 2])"
      ]
     },
     "execution_count": 263,
     "metadata": {},
     "output_type": "execute_result"
    }
   ],
   "source": [
    "from sklearn.neighbors import KNeighborsClassifier\n",
    "k = 3  \n",
    "kNN_model = KNeighborsClassifier(n_neighbors=k).fit(X_train,y_train)\n",
    "kNN_model\n",
    "yhat_1 = kNN_model.predict(X_test)\n",
    "yhat_1[0:5]\n",
    "y_test[0:5]"
   ]
  },
  {
   "cell_type": "code",
   "execution_count": 264,
   "metadata": {},
   "outputs": [
    {
     "data": {
      "text/plain": [
       "array([0.49, 0.49, 0.49, 0.5 , 0.48, 0.48, 0.5 , 0.49, 0.47, 0.48, 0.48,\n",
       "       0.48, 0.47, 0.47])"
      ]
     },
     "execution_count": 264,
     "metadata": {},
     "output_type": "execute_result"
    }
   ],
   "source": [
    "Ks=15\n",
    "mean_acc=np.zeros((Ks-1))\n",
    "std_acc=np.zeros((Ks-1))\n",
    "ConfustionMx=[];\n",
    "for n in range(1,Ks):\n",
    "    \n",
    "    #Train Model and Predict  \n",
    "    kNN_model = KNeighborsClassifier(n_neighbors=n).fit(X_train,y_train)\n",
    "    yhat_2 = kNN_model.predict(X_test)\n",
    "    \n",
    "    \n",
    "    mean_acc[n-1]=np.mean(yhat_2==y_test);\n",
    "    \n",
    "    std_acc[n-1]=np.std(yhat_2==y_test)/np.sqrt(yhat_2.shape[0])\n",
    "mean_acc"
   ]
  },
  {
   "cell_type": "code",
   "execution_count": 265,
   "metadata": {},
   "outputs": [
    {
     "data": {
      "image/png": "[encoded data removed]",
      "text/plain": [
       "<Figure size 432x288 with 1 Axes>"
      ]
     },
     "metadata": {
      "needs_background": "light"
     },
     "output_type": "display_data"
    }
   ],
   "source": [
    "plt.plot(range(1,Ks),mean_acc,'g')\n",
    "plt.fill_between(range(1,Ks),mean_acc - 1 * std_acc,mean_acc + 1 * std_acc, alpha=0.10)\n",
    "plt.legend(('Accuracy ', '+/- 3xstd'))\n",
    "plt.ylabel('Accuracy ')\n",
    "plt.xlabel('Number of Nabors (K)')\n",
    "plt.tight_layout()\n",
    "plt.show()"
   ]
  },
  {
   "cell_type": "code",
   "execution_count": 266,
   "metadata": {},
   "outputs": [
    {
     "name": "stdout",
     "output_type": "stream",
     "text": [
      "The best accuracy was with 0.49755301794453505 with k= 4\n"
     ]
    }
   ],
   "source": [
    "print( \"The best accuracy was with\", mean_acc.max(), \"with k=\", mean_acc.argmax()+1) "
   ]
  },
  {
   "cell_type": "code",
   "execution_count": 267,
   "metadata": {},
   "outputs": [
    {
     "data": {
      "text/plain": [
       "KNeighborsClassifier(algorithm='auto', leaf_size=30, metric='minkowski',\n",
       "                     metric_params=None, n_jobs=None, n_neighbors=4, p=2,\n",
       "                     weights='uniform')"
      ]
     },
     "execution_count": 267,
     "metadata": {},
     "output_type": "execute_result"
    }
   ],
   "source": [
    "k = 4\n",
    "kNN_model = KNeighborsClassifier(n_neighbors=k).fit(X_train,y_train)\n",
    "kNN_model"
   ]
  },
  {
   "cell_type": "code",
   "execution_count": 268,
   "metadata": {},
   "outputs": [
    {
     "name": "stdout",
     "output_type": "stream",
     "text": [
      "KNN Jaccard index: 0.50\n",
      "KNN F1-score: 0.49\n"
     ]
    },
    {
     "name": "stderr",
     "output_type": "stream",
     "text": [
      "/opt/anaconda3/lib/python3.7/site-packages/sklearn/metrics/_classification.py:664: FutureWarning: jaccard_similarity_score has been deprecated and replaced with jaccard_score. It will be removed in version 0.23. This implementation has surprising behavior for binary and multiclass classification tasks.\n",
      "  FutureWarning)\n"
     ]
    }
   ],
   "source": [
    "knn_yhat = kNN_model.predict(X_test)\n",
    "print(\"KNN Jaccard index: %.2f\" % jaccard_similarity_score(y_test, knn_yhat))\n",
    "print(\"KNN F1-score: %.2f\" % f1_score(y_test, knn_yhat, average='weighted') )"
   ]
  },
  {
   "cell_type": "markdown",
   "metadata": {},
   "source": [
    "Our highest-performing K here was 4. This is the best-performing model, so far. Let's try the last classification model."
   ]
  },
  {
   "cell_type": "markdown",
   "metadata": {},
   "source": [
    "## Support Vector Machine - model 4"
   ]
  },
  {
   "cell_type": "code",
   "execution_count": 269,
   "metadata": {},
   "outputs": [
    {
     "data": {
      "text/plain": [
       "array([3, 3, 1, ..., 3, 1, 3])"
      ]
     },
     "execution_count": 269,
     "metadata": {},
     "output_type": "execute_result"
    }
   ],
   "source": [
    "from sklearn import svm\n",
    "SVM_model = svm.SVC()\n",
    "SVM_model.fit(X_train, y_train) \n",
    "y_hat_3 = SVM_model.predict(X_test)\n",
    "y_hat_3"
   ]
  },
  {
   "cell_type": "code",
   "execution_count": 270,
   "metadata": {},
   "outputs": [
    {
     "name": "stdout",
     "output_type": "stream",
     "text": [
      "SVM Jaccard index: 0.50\n",
      "SVM F1-score: 0.47\n"
     ]
    },
    {
     "name": "stderr",
     "output_type": "stream",
     "text": [
      "/opt/anaconda3/lib/python3.7/site-packages/sklearn/metrics/_classification.py:664: FutureWarning: jaccard_similarity_score has been deprecated and replaced with jaccard_score. It will be removed in version 0.23. This implementation has surprising behavior for binary and multiclass classification tasks.\n",
      "  FutureWarning)\n"
     ]
    }
   ],
   "source": [
    "print(\"SVM Jaccard index: %.2f\" % jaccard_similarity_score(y_test, y_hat_3))\n",
    "print(\"SVM F1-score: %.2f\" % f1_score(y_test, y_hat_3, average='weighted') )"
   ]
  },
  {
   "cell_type": "markdown",
   "metadata": {},
   "source": [
    "## Results and Discussion"
   ]
  },
  {
   "cell_type": "markdown",
   "metadata": {},
   "source": [
    "Although I think I selected features with decent predictive ability, in the first instance my classification models overfitted a data-set with unbalanced target data and the models went for the majority target variable value. \n",
    "My method for dealing with this unbalanced data was to re-balance it, but this caused the classification models to underperform perhaps because the re-balanced data did not reflect the actual distribution in real-life of the accident severity categories and therefore the predicted results were therefore roughly evenly split. The models had not learnt the data's underlyind trends effectively."
   ]
  },
  {
   "cell_type": "markdown",
   "metadata": {},
   "source": [
    "A couple of methods I could use to mitigate against this low performance are using a metric like AOC-weighted, which performs better with imbalance, as well as making increased use of hyper-parameters (regularisation) to penalise incorrect classifications. Regularisation is traditionally used to penalise against overfitting when there is not much data but a lot of features."
   ]
  },
  {
   "cell_type": "markdown",
   "metadata": {},
   "source": [
    "## Conclusion"
   ]
  },
  {
   "cell_type": "markdown",
   "metadata": {},
   "source": [
    "Having tested out four classification models on selected features from a comprehensive road accident data-set, I tried to test how well these features could predict the severity of an accident on new data. Although this was not entirely successful, in that I have not been able to create a model which adequately predicts the target variable, I was able to identify an imbalance in the data and modify my approach to deal with this. If I was to continue with this project, I would try out further methods to deal with the classification models' tendency to predict the majority category class. For me, additionally, it has been a very useful learning process to practise some of the knowledge I have obtained whilst learning about data science, in particular exploring methods to deal with an unbalanced data-set. "
   ]
  },
  {
   "cell_type": "code",
   "execution_count": null,
   "metadata": {},
   "outputs": [],
   "source": []
  }
 ],
 "metadata": {
  "kernelspec": {
   "display_name": "Python 3",
   "language": "python",
   "name": "python3"
  },
  "language_info": {
   "codemirror_mode": {
    "name": "ipython",
    "version": 3
   },
   "file_extension": ".py",
   "mimetype": "text/x-python",
   "name": "python",
   "nbconvert_exporter": "python",
   "pygments_lexer": "ipython3",
   "version": "3.7.6"
  }
 },
 "nbformat": 4,
 "nbformat_minor": 4
}
